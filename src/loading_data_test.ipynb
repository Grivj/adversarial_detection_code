{
 "cells": [
  {
   "cell_type": "code",
   "execution_count": 31,
   "metadata": {},
   "outputs": [
    {
     "name": "stdout",
     "output_type": "stream",
     "text": [
      "Dataset ImageNette\n",
      "    Number of datapoints: 100\n",
      "    Root location: datasets/imagenet/val\n",
      "    StandardTransform\n",
      "Transform: Compose(\n",
      "               ToTensor()\n",
      "               Resize(size=256, interpolation=bilinear, max_size=None, antialias=None)\n",
      "               CenterCrop(size=(256, 256))\n",
      "           )\n"
     ]
    }
   ],
   "source": [
    "from hydra import compose, initialize\n",
    "from hydra.utils import instantiate\n",
    "\n",
    "with initialize(config_path=\"config\"):\n",
    "    cfg = compose(config_name=\"config\", overrides=[\"dataset=imagenet_val\"])\n",
    "    # model_config = cfg.model\n",
    "    # model = instantiate(model_config.instance)\n",
    "    # if \"state_dict_path\" in model_config:\n",
    "    #     import torch\n",
    "\n",
    "    #     model.load_state_dict(torch.load(model_config.state_dict_path))\n",
    "    # model = model.eval()\n",
    "\n",
    "    # from foolbox.models.pytorch import PyTorchModel\n",
    "\n",
    "    # model = PyTorchModel(\n",
    "    #     model=model,\n",
    "    #     preprocessing=model_config.preprocessing,\n",
    "    #     device=\"cpu\",\n",
    "    #     bounds=(0, 1),\n",
    "    # )\n",
    "\n",
    "    dataset = instantiate(cfg.dataset)\n",
    "    print(dataset)\n"
   ]
  },
  {
   "cell_type": "code",
   "execution_count": 19,
   "metadata": {},
   "outputs": [],
   "source": [
    "from torchvision.transforms import CenterCrop"
   ]
  },
  {
   "cell_type": "code",
   "execution_count": null,
   "metadata": {},
   "outputs": [],
   "source": [
    "CenterCrop()"
   ]
  }
 ],
 "metadata": {
  "interpreter": {
   "hash": "c6e4e9f98eb68ad3b7c296f83d20e6de614cb42e90992a65aa266555a3137d0d"
  },
  "kernelspec": {
   "display_name": "Python 3.9.7",
   "language": "python",
   "name": "python3"
  },
  "language_info": {
   "codemirror_mode": {
    "name": "ipython",
    "version": 3
   },
   "file_extension": ".py",
   "mimetype": "text/x-python",
   "name": "python",
   "nbconvert_exporter": "python",
   "pygments_lexer": "ipython3",
   "version": "3.9.7"
  },
  "orig_nbformat": 4
 },
 "nbformat": 4,
 "nbformat_minor": 2
}
